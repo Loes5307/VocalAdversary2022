{
 "cells": [
  {
   "cell_type": "code",
   "execution_count": 1,
   "id": "cef26e3d-7d21-4768-9700-9b42773e3dab",
   "metadata": {},
   "outputs": [],
   "source": [
    "from data_utility.scripts.collect_statistics import aggregate\n",
    "from pathlib import Path\n",
    "import seaborn as sns"
   ]
  },
  {
   "cell_type": "code",
   "execution_count": 7,
   "id": "8ef8aa38-ed82-4cba-9dd4-80cb64338157",
   "metadata": {},
   "outputs": [],
   "source": [
    "path_vox_train = [Path(\"/home/nik/phd/repo/data_utility/data/voxceleb/shards/vox2_train\")]\n",
    "path_vox_val = [Path(\"/home/nik/phd/repo/data_utility/data/voxceleb/shards/vox2_val\")]\n",
    "path_vox_dev = [Path(\"/home/nik/phd/repo/data_utility/data/voxceleb/shards/vox2_dev\")]\n",
    "\n",
    "path_vox_testo = [Path(\"/home/nik/phd/repo/data_utility/data/voxceleb/shards/vox1_test_e\")]\n",
    "\n"
   ]
  },
  {
   "cell_type": "code",
   "execution_count": 8,
   "id": "56d3ff17-9e1f-4189-9c60-81c0d779b7c3",
   "metadata": {},
   "outputs": [
    {
     "name": "stdout",
     "output_type": "stream",
     "text": [
      "creating a data pipeline from the following tar files:\n",
      " \t/home/nik/phd/repo/data_utility/data/voxceleb/shards/vox1_test_e/vox1_test_e.000000.tar\n"
     ]
    },
    {
     "name": "stderr",
     "output_type": "stream",
     "text": [
      "145160it [07:39, 315.76it/s]\n"
     ]
    }
   ],
   "source": [
    "ag = aggregate(path_vox_testo, True, 1)"
   ]
  },
  {
   "cell_type": "code",
   "execution_count": 9,
   "id": "3d7a5cd3-b5fe-47f6-9ec8-cded1805a591",
   "metadata": {},
   "outputs": [
    {
     "data": {
      "text/plain": [
       "Aggregation of:\n",
       "\t/home/nik/phd/repo/data_utility/data/voxceleb/shards/vox1_test_e\n",
       "\n",
       "number of samples: 145160\n",
       "unique keys: 145160\n",
       "\n",
       "number of speakers: 1251\n",
       "number of males: 690\n",
       "number of females: 561\n",
       "\n",
       "min number of frames: 63361\t(3.96 seconds)\n",
       "max number of frames: 2318721\t(144.92 seconds)\n",
       "avg number of frames: 131833.10\t(8.24 seconds)\n",
       "quantile 10%: 68481.00\t(4.28 seconds)\n",
       "quantile 20%: 74881.00\t(4.68 seconds)\n",
       "quantile 80%: 168961.00\t(10.56 seconds)\n",
       "quantile 90%: 227841.00\t(14.24 seconds)\n",
       "\n",
       "duration: 1196055.79 seconds\t(~332.24 hours)\n",
       "\n",
       "no transcription labels found"
      ]
     },
     "execution_count": 9,
     "metadata": {},
     "output_type": "execute_result"
    }
   ],
   "source": [
    "ag"
   ]
  },
  {
   "cell_type": "code",
   "execution_count": null,
   "id": "acd01463-a69e-473b-a829-fe0af3e2a492",
   "metadata": {},
   "outputs": [],
   "source": []
  },
  {
   "cell_type": "code",
   "execution_count": null,
   "id": "be03df9f-359a-4925-87af-d7feb9f82157",
   "metadata": {},
   "outputs": [],
   "source": []
  },
  {
   "cell_type": "code",
   "execution_count": null,
   "id": "6f480517-1b62-49ab-8f5e-d7385a84f2a2",
   "metadata": {},
   "outputs": [],
   "source": []
  },
  {
   "cell_type": "code",
   "execution_count": null,
   "id": "34eb6a91-7634-4ceb-9595-f63568345386",
   "metadata": {},
   "outputs": [],
   "source": []
  }
 ],
 "metadata": {
  "kernelspec": {
   "display_name": "Python 3 (ipykernel)",
   "language": "python",
   "name": "python3"
  },
  "language_info": {
   "codemirror_mode": {
    "name": "ipython",
    "version": 3
   },
   "file_extension": ".py",
   "mimetype": "text/x-python",
   "name": "python",
   "nbconvert_exporter": "python",
   "pygments_lexer": "ipython3",
   "version": "3.10.0"
  }
 },
 "nbformat": 4,
 "nbformat_minor": 5
}
